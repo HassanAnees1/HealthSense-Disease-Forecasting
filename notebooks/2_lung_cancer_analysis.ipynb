{
 "cells": [
  {
   "cell_type": "markdown",
   "metadata": {},
   "source": [
    "# Lung Cancer Analysis\n",
    "\n",
    "This notebook analyzes the lung cancer dataset to understand risk factors, symptoms, and develop predictive models."
   ]
  },
  {
   "cell_type": "markdown",
   "metadata": {},
   "source": [
    "## 1. Setup and Data Loading"
   ]
  },
  {
   "cell_type": "code",
   "execution_count": null,
   "metadata": {},
   "source": [
    "# Import required libraries\n",
    "import pandas as pd\n",
    "import numpy as np\n",
    "import matplotlib.pyplot as plt\n",
    "import seaborn as sns\n",
    "from sklearn.model_selection import train_test_split\n",
    "from sklearn.preprocessing import StandardScaler\n",
    "from sklearn.ensemble import RandomForestClassifier\n",
    "from sklearn.metrics import classification_report, confusion_matrix\n",
    "import warnings\n",
    "warnings.filterwarnings('ignore')\n",
    "\n",
    "# Set style for plots\n",
    "plt.style.use('seaborn')\n",
    "sns.set_palette('husl')"
   ]
  },
  {
   "cell_type": "code",
   "execution_count": null,
   "metadata": {},
   "source": [
    "# Load the dataset\n",
    "df = pd.read_csv('../data/LungCancer/cancer patient data sets.csv')\n",
    "print(\"Dataset shape:\", df.shape)\n",
    "df.head()"
   ]
  },
  {
   "cell_type": "markdown",
   "metadata": {},
   "source": [
    "## 2. Data Overview"
   ]
  },
  {
   "cell_type": "code",
   "execution_count": null,
   "metadata": {},
   "source": [
    "# Basic information about the dataset\n",
    "print(\"\\nDataset Info:\")\n",
    "print(df.info())\n",
    "\n",
    "print(\"\\nMissing Values:\")\n",
    "print(df.isnull().sum())\n",
    "\n",
    "print(\"\\nBasic Statistics:\")\n",
    "print(df.describe())"
   ]
  },
  {
   "cell_type": "markdown",
   "metadata": {},
   "source": [
    "## 3. Exploratory Data Analysis"
   ]
  },
  {
   "cell_type": "code",
   "execution_count": null,
   "metadata": {},
   "source": [
    "# Distribution of target variable\n",
    "plt.figure(figsize=(10, 6))\n",
    "sns.countplot(data=df, x='Level')\n",
    "plt.title('Distribution of Lung Cancer Levels')\n",
    "plt.show()"
   ]
  },
  {
   "cell_type": "code",
   "execution_count": null,
   "metadata": {},
   "source": [
    "# Correlation analysis\n",
    "plt.figure(figsize=(20, 16))\n",
    "correlation_matrix = df.corr()\n",
    "sns.heatmap(correlation_matrix, annot=True, cmap='coolwarm', center=0)\n",
    "plt.title('Correlation Matrix')\n",
    "plt.show()"
   ]
  },
  {
   "cell_type": "code",
   "execution_count": null,
   "metadata": {},
   "source": [
    "# Distribution of key features\n",
    "key_features = ['Age', 'Smoking', 'Air Pollution', 'Genetic Risk']\n",
    "fig, axes = plt.subplots(2, 2, figsize=(15, 12))\n",
    "axes = axes.ravel()\n",
    "\n",
    "for idx, feature in enumerate(key_features):\n",
    "    sns.histplot(data=df, x=feature, hue='Level', multiple='stack', ax=axes[idx])\n",
    "    axes[idx].set_title(f'Distribution of {feature}')\n",
    "\n",
    "plt.tight_layout()\n",
    "plt.show()"
   ]
  },
  {
   "cell_type": "markdown",
   "metadata": {},
   "source": [
    "## 4. Feature Engineering"
   ]
  },
  {
   "cell_type": "code",
   "execution_count": null,
   "metadata": {},
   "source": [
    "# Create risk score based on key factors\n",
    "df['Risk_Score'] = df['Smoking'] + df['Air Pollution'] + df['Genetic Risk'] + df['Obesity']\n",
    "\n",
    "# Create symptom score\n",
    "symptom_columns = ['Chest Pain', 'Coughing of Blood', 'Fatigue', 'Weight Loss', \n",
    "                  'Shortness of Breath', 'Wheezing', 'Swallowing Difficulty',\n",
    "                  'Clubbing of Finger Nails', 'Frequent Cold', 'Dry Cough', 'Snoring']\n",
    "df['Symptom_Score'] = df[symptom_columns].sum(axis=1)\n",
    "\n",
    "print(\"New features created:\")\n",
    "print(df[['Risk_Score', 'Symptom_Score']].describe())"
   ]
  },
  {
   "cell_type": "markdown",
   "metadata": {},
   "source": [
    "## 5. Model Development"
   ]
  },
  {
   "cell_type": "code",
   "execution_count": null,
   "metadata": {},
   "source": [
    "# Prepare features and target\n",
    "X = df.drop(['Level', 'Patient Id'], axis=1)\n",
    "y = df['Level']\n",
    "\n",
    "# Split the data\n",
    "X_train, X_test, y_train, y_test = train_test_split(X, y, test_size=0.2, random_state=42)\n",
    "\n",
    "# Scale the features\n",
    "scaler = StandardScaler()\n",
    "X_train_scaled = scaler.fit_transform(X_train)\n",
    "X_test_scaled = scaler.transform(X_test)\n",
    "\n",
    "# Train Random Forest model\n",
    "rf_model = RandomForestClassifier(n_estimators=100, random_state=42)\n",
    "rf_model.fit(X_train_scaled, y_train)\n",
    "\n",
    "# Make predictions\n",
    "y_pred = rf_model.predict(X_test_scaled)\n",
    "\n",
    "# Print model performance\n",
    "print(\"Classification Report:\")\n",
    "print(classification_report(y_test, y_pred))\n",
    "\n",
    "# Plot confusion matrix\n",
    "plt.figure(figsize=(10, 8))\n",
    "cm = confusion_matrix(y_test, y_pred)\n",
    "sns.heatmap(cm, annot=True, fmt='d', cmap='Blues')\n",
    "plt.title('Confusion Matrix')\n",
    "plt.ylabel('True Label')\n",
    "plt.xlabel('Predicted Label')\n",
    "plt.show()"
   ]
  },
  {
   "cell_type": "markdown",
   "metadata": {},
   "source": [
    "## 6. Feature Importance Analysis"
   ]
  },
  {
   "cell_type": "code",
   "execution_count": null,
   "metadata": {},
   "source": [
    "# Get feature importance\n",
    "feature_importance = pd.DataFrame({\n",
    "    'feature': X.columns,\n",
    "    'importance': rf_model.feature_importances_\n",
    "})\n",
    "feature_importance = feature_importance.sort_values('importance', ascending=False)\n",
    "\n",
    "# Plot feature importance\n",
    "plt.figure(figsize=(12, 6))\n",
    "sns.barplot(data=feature_importance.head(10), x='importance', y='feature')\n",
    "plt.title('Top 10 Most Important Features')\n",
    "plt.show()"
   ]
  },
  {
   "cell_type": "markdown",
   "metadata": {},
   "source": [
    "## 7. Risk Factor Analysis"
   ]
  },
  {
   "cell_type": "code",
   "execution_count": null,
   "metadata": {},
   "source": [
    "# Analyze risk factors\n",
    "risk_factors = ['Smoking', 'Air Pollution', 'Genetic Risk', 'Obesity', 'Alcohol use']\n",
    "\n",
    "plt.figure(figsize=(15, 10))\n",
    "for i, factor in enumerate(risk_factors, 1):\n",
    "    plt.subplot(2, 3, i)\n",
    "    sns.boxplot(data=df, x='Level', y=factor)\n",
    "    plt.title(f'{factor} by Cancer Level')\n",
    "\n",
    "plt.tight_layout()\n",
    "plt.show()"
   ]
  },
  {
   "cell_type": "markdown",
   "metadata": {},
   "source": [
    "## 8. Symptom Analysis"
   ]
  },
  {
   "cell_type": "code",
   "execution_count": null,
   "metadata": {},
   "source": [
    "# Analyze symptoms\n",
    "symptom_columns = ['Chest Pain', 'Coughing of Blood', 'Fatigue', 'Weight Loss', \n",
    "                  'Shortness of Breath', 'Wheezing', 'Swallowing Difficulty',\n",
    "                  'Clubbing of Finger Nails', 'Frequent Cold', 'Dry Cough', 'Snoring']\n",
    "\n",
    "plt.figure(figsize=(15, 10))\n",
    "for i, symptom in enumerate(symptom_columns, 1):\n",
    "    plt.subplot(3, 4, i)\n",
    "    sns.countplot(data=df, x=symptom, hue='Level')\n",
    "    plt.title(f'{symptom} Distribution')\n",
    "    plt.xticks(rotation=45)\n",
    "\n",
    "plt.tight_layout()\n",
    "plt.show()"
   ]
  },
  {
   "cell_type": "markdown",
   "metadata": {},
   "source": [
    "## 9. Conclusions and Recommendations\n",
    "\n",
    "Based on our analysis, we can draw the following conclusions:\n",
    "\n",
    "1. Key Risk Factors:\n",
    "   - Smoking\n",
    "   - Air Pollution\n",
    "   - Genetic Risk\n",
    "   - Obesity\n",
    "   - Alcohol use\n",
    "\n",
    "2. Important Symptoms:\n",
    "   - Chest Pain\n",
    "   - Coughing of Blood\n",
    "   - Shortness of Breath\n",
    "   - Weight Loss\n",
    "\n",
    "3. Model Performance:\n",
    "   - The Random Forest model shows good performance in predicting lung cancer levels\n",
    "   - Feature importance analysis helps identify the most significant factors\n",
    "\n",
    "Recommendations:\n",
    "1. Regular screening for high-risk individuals\n",
    "2. Focus on preventive measures for modifiable risk factors\n",
    "3. Early detection through symptom monitoring\n",
    "4. Public health initiatives targeting smoking and air pollution"
   ]
  }
 ],
 "metadata": {
  "kernelspec": {
   "display_name": "Python 3",
   "language": "python",
   "name": "python3"
  },
  "language_info": {
   "codemirror_mode": {
    "name": "ipython",
    "version": 3
   },
   "file_extension": ".py",
   "mimetype": "text/x-python",
   "name": "python",
   "nbconvert_exporter": "python",
   "pygments_lexer": "ipython3",
   "version": "3.8.0"
  }
 },
 "nbformat": 4,
 "nbformat_minor": 4
} 